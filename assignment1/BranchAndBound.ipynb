{
 "cells": [
  {
   "cell_type": "code",
   "execution_count": 1,
   "metadata": {},
   "outputs": [],
   "source": [
    "import random\n",
    "import pygraphviz\n",
    "import copy\n",
    "from graphviz import Digraph"
   ]
  },
  {
   "cell_type": "code",
   "execution_count": 2,
   "metadata": {},
   "outputs": [],
   "source": [
    "def custom_func (x):\n",
    "    sum = 0\n",
    "    for i in range(len(x)):\n",
    "        sum = sum + (x[i])**2\n",
    "    return 3**(sum**.5)"
   ]
  },
  {
   "cell_type": "code",
   "execution_count": 3,
   "metadata": {},
   "outputs": [],
   "source": [
    "class Node:\n",
    "    def __init__(self, data=None):\n",
    "        self.child = []\n",
    "        self.data = []\n",
    "        if (data != None):\n",
    "            self.data = self.data + data"
   ]
  },
  {
   "cell_type": "code",
   "execution_count": 4,
   "metadata": {},
   "outputs": [],
   "source": [
    "def bb(protected_lst, master_lst, num_features):\n",
    "    \n",
    "    root = Node(master_lst + protected_lst)\n",
    "    if (num_features >= len(master_lst) + len(protected_lst)):\n",
    "        return (root, (master_lst+protected_lst))\n",
    "    num_branches = num_features+1-len(protected_lst)\n",
    "    eliminated_lst = []\n",
    "    branch_i = 0\n",
    "    opt_subset = []\n",
    "\n",
    "    for branch_i in range(num_branches):\n",
    "        elem_i = random.randrange(0, len(master_lst))\n",
    "        temp = master_lst.pop(elem_i)\n",
    "        if (branch_i==0):\n",
    "            max_value = custom_func(protected_lst + master_lst)\n",
    "        \n",
    "        if (max_value > custom_func(master_lst+protected_lst)):\n",
    "            protected_lst.append(temp)\n",
    "            continue\n",
    "            \n",
    "        (child,temp_subset) = bb(protected_lst.copy(), master_lst.copy(), num_features)\n",
    "        \n",
    "        if (custom_func(temp_subset) > custom_func(opt_subset)):\n",
    "            opt_subset = temp_subset\n",
    "            \n",
    "        root.child.append(child)\n",
    "        protected_lst.append(temp)\n",
    "        \n",
    "    return (root, opt_subset)"
   ]
  },
  {
   "cell_type": "code",
   "execution_count": 5,
   "metadata": {},
   "outputs": [],
   "source": [
    "def print_tree(node):\n",
    "    print (node.data)\n",
    "    for i in range(len(node.child)):\n",
    "        print_tree(node.child[i])\n",
    "    if (len(node.child) == 0):\n",
    "        print (\"===^^leaf node^^===\")"
   ]
  },
  {
   "cell_type": "code",
   "execution_count": 6,
   "metadata": {},
   "outputs": [],
   "source": [
    "def draw_tree(node_id, node, parent_id, graph_obj=None, edge_id=-1):\n",
    "    label_str = '{}\\n{}'.format(str(node.data), str(int(custom_func(node.data))))\n",
    "    if (graph_obj is None):        \n",
    "        graph_obj = Digraph(comment='Branch And Bound')\n",
    "        graph_obj.node(name=str(node_id[0]), label=label_str)\n",
    "        node_id[0] += 1\n",
    "    else:        \n",
    "        graph_obj.node(name=str(node_id[0]), label=label_str)\n",
    "        graph_obj.edge(tail_name=str(parent_id), head_name=str(node_id[0]), label=str(edge_id))\n",
    "        parent_id = node_id[0]\n",
    "        node_id[0] += 1\n",
    "    for i in range(len(node.child)):\n",
    "        edge_i = list(set(node.data) - set(node.child[i].data))[0]  \n",
    "        draw_tree(node_id ,node.child[i], parent_id, edge_id=edge_i, graph_obj=graph_obj)\n",
    "    return graph_obj"
   ]
  },
  {
   "cell_type": "code",
   "execution_count": 7,
   "metadata": {},
   "outputs": [
    {
     "name": "stdin",
     "output_type": "stream",
     "text": [
      "Enter total num of features 7\n",
      "Enter num of features to be selected 2\n",
      "Input the feature number 1 : -1\n",
      "Input the feature number 2 : 0\n",
      "Input the feature number 3 : 0.33\n",
      "Input the feature number 4 : 32\n",
      "Input the feature number 5 : 3.6\n",
      "Input the feature number 6 : -4.2\n",
      "Input the feature number 7 : -8\n"
     ]
    },
    {
     "name": "stdout",
     "output_type": "stream",
     "text": [
      "Optimal Subset\n",
      "[32.0, -8.0]\n"
     ]
    }
   ],
   "source": [
    "D = int(input(\"Enter total num of features\"))\n",
    "d = int(input(\"Enter num of features to be selected\"))\n",
    "feature = []\n",
    "for i in range (D):\n",
    "    temp = float(input(\"Input the feature number {} :\".format(str(i+1))))\n",
    "    feature.append((temp))\n",
    "\n",
    "protected_lst = []\n",
    "(tree_head, opt) = bb(protected_lst, feature, d)\n",
    "graph_object = draw_tree(node_id=[1], node=tree_head, parent_id=1, graph_obj=None)\n",
    "graph_object.render()\n",
    "print (\"Optimal Subset\")\n",
    "print(opt)"
   ]
  },
  {
   "cell_type": "code",
   "execution_count": null,
   "metadata": {},
   "outputs": [],
   "source": []
  }
 ],
 "metadata": {
  "kernelspec": {
   "display_name": "Python 3",
   "language": "python",
   "name": "python3"
  },
  "language_info": {
   "codemirror_mode": {
    "name": "ipython",
    "version": 3
   },
   "file_extension": ".py",
   "mimetype": "text/x-python",
   "name": "python",
   "nbconvert_exporter": "python",
   "pygments_lexer": "ipython3",
   "version": "3.7.3"
  }
 },
 "nbformat": 4,
 "nbformat_minor": 4
}
